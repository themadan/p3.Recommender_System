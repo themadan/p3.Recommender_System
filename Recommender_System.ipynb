{
  "nbformat": 4,
  "nbformat_minor": 0,
  "metadata": {
    "colab": {
      "name": "Untitled0.ipynb",
      "provenance": []
    },
    "kernelspec": {
      "name": "python3",
      "display_name": "Python 3"
    }
  },
  "cells": [
    {
      "cell_type": "markdown",
      "metadata": {
        "id": "bA3o2t38dF6v",
        "colab_type": "text"
      },
      "source": [
        "# RECOMMENDER_SYSTEM"
      ]
    },
    {
      "cell_type": "markdown",
      "metadata": {
        "id": "Yt0v07yVdK_l",
        "colab_type": "text"
      },
      "source": [
        "# There are two popular approaches to build a recommender system.\n",
        "# A.Content_base:\n",
        "* Requires a good amount of information of items’ own features, rather than using users’ interactions and feedbacks. For example, it can be movie attributes such as genre, year, director, actor etc., or textual content of articles that can extracted by applying Natural Language Processing.\n"
      ]
    },
    {
      "cell_type": "markdown",
      "metadata": {
        "id": "Y7ZsUZA9eA7y",
        "colab_type": "text"
      },
      "source": [
        "#B.Collaborative_Filtering:\n",
        "* Doesn’t need anything else except users’ historical preference on a set of items. Because it’s based on historical data, the core assumption here is that the users who have agreed in the past tend to also agree in the future. In terms of user preference, it usually expressed by two categories. Explicit Rating, is a rate given by a user to an item on a sliding scale, like 5 stars for Titanic. This is the most direct feedback from users to show how much they like an item. Implicit Rating, suggests users preference indirectly, such as page views, clicks, purchase records, whether or not listen to a music track, and so on. In this article, I will take a close look at collaborative filtering that is a traditional and powerful tool for recommender systems.\n",
        "\n",
        "# Collaborative_filtering are two type:\n",
        "# A.User-Base collaborative Filtering:\n",
        "* The technique in the examples explained above, where the rating matrix is used to find similar users based on the ratings they give, is called user-based or user-user collaborative filtering.\n",
        "\n",
        "# B.Item-Base Collaborative Filtering:\n",
        "* If you use the rating matrix to find similar items based on the ratings given to them by users, then the approach is called item-based or item-item collaborative filtering.\n",
        "\n",
        "\n"
      ]
    },
    {
      "cell_type": "code",
      "metadata": {
        "id": "gLpZx8B_i5pf",
        "colab_type": "code",
        "colab": {}
      },
      "source": [
        ""
      ],
      "execution_count": 0,
      "outputs": []
    }
  ]
}